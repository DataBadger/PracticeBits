{
 "metadata": {
  "language_info": {
   "codemirror_mode": {
    "name": "ipython",
    "version": 3
   },
   "file_extension": ".py",
   "mimetype": "text/x-python",
   "name": "python",
   "nbconvert_exporter": "python",
   "pygments_lexer": "ipython3",
   "version": "3.9.0-final"
  },
  "orig_nbformat": 2,
  "kernelspec": {
   "name": "python3",
   "display_name": "Python 3.9.0 64-bit",
   "metadata": {
    "interpreter": {
     "hash": "054f160982456948a4e47a8f2fc933751c4bfec5f601d36a81e3139add8d6658"
    }
   }
  }
 },
 "nbformat": 4,
 "nbformat_minor": 2,
 "cells": [
  {
   "cell_type": "code",
   "execution_count": 652,
   "metadata": {
    "tags": []
   },
   "outputs": [
    {
     "output_type": "execute_result",
     "data": {
      "text/plain": [
       "1"
      ]
     },
     "metadata": {},
     "execution_count": 652
    }
   ],
   "source": [
    "def lesser_of_two_even(num1,num2):\n",
    "    if num1 % 2 == 0 and num2 % 2 == 0 and num1 < num2:\n",
    "        return num1\n",
    "    if num1 % 2 == 0 and num2 % 2 == 0 and num1 > num2:\n",
    "        return num2\n",
    "    if num1 % 2 != 0:\n",
    "        return num1\n",
    "    else:\n",
    "        return num2\n",
    "\n",
    "lesser_of_two_even(1,3)"
   ]
  },
  {
   "cell_type": "code",
   "execution_count": 662,
   "metadata": {},
   "outputs": [
    {
     "output_type": "execute_result",
     "data": {
      "text/plain": [
       "False"
      ]
     },
     "metadata": {},
     "execution_count": 662
    }
   ],
   "source": [
    "def animal_crackers(a):\n",
    "    if  a.split()[0][0] ==  a.split()[1][0]:\n",
    "        return True\n",
    "    else:\n",
    "        return False\n",
    "\n",
    "animal_crackers('two words')"
   ]
  },
  {
   "cell_type": "code",
   "execution_count": 672,
   "metadata": {},
   "outputs": [
    {
     "output_type": "execute_result",
     "data": {
      "text/plain": [
       "True"
      ]
     },
     "metadata": {},
     "execution_count": 672
    }
   ],
   "source": [
    "def makes_twenty(num1,num2):\n",
    "    if sum((num1,num2)) == 20 or num1 == 20 or num2 == 20:\n",
    "        return True\n",
    "    else:\n",
    "        return False\n",
    "\n",
    "makes_twenty(19,1)"
   ]
  },
  {
   "cell_type": "code",
   "execution_count": 686,
   "metadata": {},
   "outputs": [
    {
     "output_type": "execute_result",
     "data": {
      "text/plain": [
       "'TheRewego'"
      ]
     },
     "metadata": {},
     "execution_count": 686
    }
   ],
   "source": [
    "def old_macdonald(name):\n",
    "    if len(name) > 3:\n",
    "        return name[:3].capitalize() + name[3:].capitalize()\n",
    "    else:\n",
    "        return 'Name is too short'\n",
    "\n",
    "old_macdonald('therewego')\n"
   ]
  },
  {
   "cell_type": "code",
   "execution_count": 700,
   "metadata": {},
   "outputs": [
    {
     "output_type": "execute_result",
     "data": {
      "text/plain": [
       "'ready are we'"
      ]
     },
     "metadata": {},
     "execution_count": 700
    }
   ],
   "source": [
    "def master_yoda(sentence):\n",
    "    return ' '.join(sentence.split()[::-1])\n",
    "\n",
    "master_yoda('we are ready')"
   ]
  },
  {
   "source": [
    "def almost_there(num1):\n",
    "    return ((abs(100 - num1) <=10) or (abs(200 - num1) <= 10))\n",
    "\n",
    "almost_there(150)"
   ],
   "cell_type": "code",
   "metadata": {},
   "execution_count": 712,
   "outputs": [
    {
     "output_type": "execute_result",
     "data": {
      "text/plain": [
       "False"
      ]
     },
     "metadata": {},
     "execution_count": 712
    }
   ]
  },
  {
   "cell_type": "code",
   "execution_count": 738,
   "metadata": {},
   "outputs": [
    {
     "output_type": "execute_result",
     "data": {
      "text/plain": [
       "False"
      ]
     },
     "metadata": {},
     "execution_count": 738
    }
   ],
   "source": [
    "def has_33(nums):\n",
    "    for i in range(0,len(nums)-1):\n",
    "        if nums[i] == 3 and nums [i+1] == 3:\n",
    "            return True\n",
    "    return False\n",
    "\n",
    "has_33([3,1,3])"
   ]
  },
  {
   "cell_type": "code",
   "execution_count": 762,
   "metadata": {},
   "outputs": [
    {
     "output_type": "execute_result",
     "data": {
      "text/plain": [
       "'MMMiiissssssiiissssssiiippppppiii'"
      ]
     },
     "metadata": {},
     "execution_count": 762
    }
   ],
   "source": [
    "def paper_doll(x):\n",
    "    my_string = []\n",
    "    for i in range(len(x)):\n",
    "        my_string.append(x[i] * 3)\n",
    "    return ''.join(my_string)\n",
    "\n",
    "paper_doll('Mississippi')"
   ]
  },
  {
   "cell_type": "code",
   "execution_count": 771,
   "metadata": {},
   "outputs": [
    {
     "output_type": "execute_result",
     "data": {
      "text/plain": [
       "19"
      ]
     },
     "metadata": {},
     "execution_count": 771
    }
   ],
   "source": [
    "def blackjack(a,b,c):\n",
    "    if sum((a,b,c)) <= 21:\n",
    "        return sum((a,b,c))\n",
    "    elif 11 in (a,b,c) and sum((a,b,c)) - 10 <= 21:\n",
    "        return sum((a,b,c)) - 10\n",
    "    else:\n",
    "        return 'Bust'\n",
    "\n",
    "blackjack(9,9,11)"
   ]
  },
  {
   "cell_type": "code",
   "execution_count": 862,
   "metadata": {},
   "outputs": [
    {
     "output_type": "execute_result",
     "data": {
      "text/plain": [
       "14"
      ]
     },
     "metadata": {},
     "execution_count": 862
    }
   ],
   "source": [
    "def summer_69(arr):\n",
    "    total = 0\n",
    "    add = True\n",
    "    for num in arr:\n",
    "        while add:\n",
    "            if num != 6:\n",
    "                total = total + num\n",
    "                break\n",
    "            else:\n",
    "                add = False\n",
    "        while not add:\n",
    "            if num != 9:\n",
    "                break\n",
    "            else:\n",
    "                add = True\n",
    "                break\n",
    "    return total\n",
    "\n",
    "summer_69([2,1,6,9,11])\n"
   ]
  },
  {
   "cell_type": "code",
   "execution_count": 861,
   "metadata": {},
   "outputs": [
    {
     "output_type": "execute_result",
     "data": {
      "text/plain": [
       "True"
      ]
     },
     "metadata": {},
     "execution_count": 861
    }
   ],
   "source": [
    "def spy_game(nums):\n",
    "    bond = []\n",
    "    for num in nums:\n",
    "        if num == 0 or num == 7:\n",
    "            bond.append(num)\n",
    "    if bond != [0,0,7]:\n",
    "        return False\n",
    "    return True\n",
    "\n",
    "spy_game([1,2,4,0,0,7,5])\n",
    "#spy_game([1,0,2,4,0,5,7])\n",
    "#spy_game([1,7,2,0,4,5,0])"
   ]
  },
  {
   "cell_type": "code",
   "execution_count": 863,
   "metadata": {},
   "outputs": [
    {
     "output_type": "stream",
     "name": "stdout",
     "text": [
      "[2, 3, 5, 7, 11, 13, 17, 19, 23, 29, 31, 37, 41, 43, 47, 53, 59, 61, 67, 71, 73, 79, 83, 89, 97]\n"
     ]
    },
    {
     "output_type": "execute_result",
     "data": {
      "text/plain": [
       "25"
      ]
     },
     "metadata": {},
     "execution_count": 863
    }
   ],
   "source": [
    "def count_primes(num):\n",
    "    primes = [2]\n",
    "    x = 3\n",
    "    if num < 2:\n",
    "        return 0\n",
    "    while x <= num:\n",
    "        for y in range(3,x,2):\n",
    "            if x%y == 0:\n",
    "                x = x + 2\n",
    "                break\n",
    "        else:\n",
    "            primes.append(x)\n",
    "            x = x + 2\n",
    "    print(primes)\n",
    "    return len(primes)\n",
    "\n",
    "count_primes(100)"
   ]
  },
  {
   "cell_type": "code",
   "execution_count": 869,
   "metadata": {},
   "outputs": [
    {
     "output_type": "stream",
     "name": "stdout",
     "text": [
      "\n                      *\n                     * *\n                    *****\n                    *   *\n                    *   *\n"
     ]
    }
   ],
   "source": [
    "def print_big(a):\n",
    "    return print(  \n",
    "                   '''\n",
    "                      *\n",
    "                     * *\n",
    "                    *****\n",
    "                    *   *\n",
    "                    *   *''')\n",
    "print_big('a')"
   ]
  }
 ]
}