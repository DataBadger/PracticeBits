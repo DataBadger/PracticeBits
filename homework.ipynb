{
 "metadata": {
  "language_info": {
   "codemirror_mode": {
    "name": "ipython",
    "version": 3
   },
   "file_extension": ".py",
   "mimetype": "text/x-python",
   "name": "python",
   "nbconvert_exporter": "python",
   "pygments_lexer": "ipython3",
   "version": "3.9.0-final"
  },
  "orig_nbformat": 2,
  "kernelspec": {
   "name": "python3",
   "display_name": "Python 3.9.0 64-bit",
   "metadata": {
    "interpreter": {
     "hash": "054f160982456948a4e47a8f2fc933751c4bfec5f601d36a81e3139add8d6658"
    }
   }
  }
 },
 "nbformat": 4,
 "nbformat_minor": 2,
 "cells": [
  {
   "cell_type": "code",
   "execution_count": 10,
   "metadata": {},
   "outputs": [],
   "source": [
    "def vol(num):\n",
    "    return (4/3) * math.pi * num**3\n"
   ]
  },
  {
   "cell_type": "code",
   "execution_count": 12,
   "metadata": {},
   "outputs": [
    {
     "output_type": "execute_result",
     "data": {
      "text/plain": [
       "904.7786842338603"
      ]
     },
     "metadata": {},
     "execution_count": 12
    }
   ],
   "source": [
    "vol(6)"
   ]
  },
  {
   "cell_type": "code",
   "execution_count": 14,
   "metadata": {},
   "outputs": [],
   "source": [
    "def ran_check(a,b,c):\n",
    "    if a >= b and a <=c:\n",
    "        return True\n",
    "    else:\n",
    "        return False"
   ]
  },
  {
   "cell_type": "code",
   "execution_count": 18,
   "metadata": {},
   "outputs": [
    {
     "output_type": "execute_result",
     "data": {
      "text/plain": [
       "False"
      ]
     },
     "metadata": {},
     "execution_count": 18
    }
   ],
   "source": [
    "ran_check(1,2,3)"
   ]
  },
  {
   "cell_type": "code",
   "execution_count": 78,
   "metadata": {},
   "outputs": [],
   "source": [
    "def up_low(s):\n",
    "    low_case = []\n",
    "    upp_case = []\n",
    "    for i in range(len(s)):\n",
    "        if s[i].islower():\n",
    "            low_case.append(s[i])\n",
    "        if s[i].isupper():\n",
    "            upp_case.append(s[i])\n",
    "    print( f'''\n",
    "    No of lower case characters : {len(low_case)}\n",
    "    No of upper case characters : {len(upp_case)}''')"
   ]
  },
  {
   "cell_type": "code",
   "execution_count": 80,
   "metadata": {},
   "outputs": [
    {
     "output_type": "stream",
     "name": "stdout",
     "text": [
      "\n    No of lower case characters : 5\n    No of upper case characters : 3\n"
     ]
    }
   ],
   "source": [
    "up_low('Out Of The')"
   ]
  },
  {
   "cell_type": "code",
   "execution_count": 100,
   "metadata": {},
   "outputs": [],
   "source": [
    "def unique_list(x):   \n",
    "    return list(set(x))"
   ]
  },
  {
   "cell_type": "code",
   "execution_count": 102,
   "metadata": {},
   "outputs": [
    {
     "output_type": "execute_result",
     "data": {
      "text/plain": [
       "[1, 2, 3, 4, 5, 6, 7, 9]"
      ]
     },
     "metadata": {},
     "execution_count": 102
    }
   ],
   "source": [
    "unique_list([1,2,3,4,5,9,9,9,9,7,7,7,6,6,6])"
   ]
  },
  {
   "cell_type": "code",
   "execution_count": 106,
   "metadata": {},
   "outputs": [
    {
     "output_type": "execute_result",
     "data": {
      "text/plain": [
       "-24"
      ]
     },
     "metadata": {},
     "execution_count": 106
    }
   ],
   "source": [
    "def multiply(x):\n",
    "    total = 1\n",
    "    for i in x:\n",
    "        total = total * i\n",
    "    return total\n",
    "multiply([1,2,3,-4])"
   ]
  },
  {
   "cell_type": "code",
   "execution_count": 132,
   "metadata": {},
   "outputs": [
    {
     "output_type": "execute_result",
     "data": {
      "text/plain": [
       "True"
      ]
     },
     "metadata": {},
     "execution_count": 132
    }
   ],
   "source": [
    "def palindrome(word):\n",
    "    word = word.replace(' ','')\n",
    "    return word == word[::-1]\n",
    "palindrome('nurses run')\n",
    "    "
   ]
  },
  {
   "cell_type": "code",
   "execution_count": 156,
   "metadata": {},
   "outputs": [
    {
     "output_type": "execute_result",
     "data": {
      "text/plain": [
       "True"
      ]
     },
     "metadata": {},
     "execution_count": 156
    }
   ],
   "source": [
    "def ispangram(strng, alphabet = string.ascii_lowercase):\n",
    "    strng = (strng.lower().replace(' ',''))\n",
    "    c = set(strng)\n",
    "    v = set(alphabet)\n",
    "    z = c.difference(v)\n",
    "    if len(z) == 0:\n",
    "        return True\n",
    "    else:\n",
    "        return False\n",
    "   \n",
    "ispangram('The quick brown fox jumps over the lazy dog')"
   ]
  }
 ]
}