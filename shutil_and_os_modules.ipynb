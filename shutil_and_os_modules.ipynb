{
 "metadata": {
  "language_info": {
   "codemirror_mode": {
    "name": "ipython",
    "version": 3
   },
   "file_extension": ".py",
   "mimetype": "text/x-python",
   "name": "python",
   "nbconvert_exporter": "python",
   "pygments_lexer": "ipython3",
   "version": "3.9.0-final"
  },
  "orig_nbformat": 2,
  "kernelspec": {
   "name": "python3",
   "display_name": "Python 3.9.0 64-bit",
   "metadata": {
    "interpreter": {
     "hash": "ac59ebe37160ed0dfa835113d9b8498d9f09ceb179beaac4002f036b9467c963"
    }
   }
  }
 },
 "nbformat": 4,
 "nbformat_minor": 2,
 "cells": [
  {
   "cell_type": "code",
   "execution_count": 2,
   "metadata": {},
   "outputs": [
    {
     "output_type": "execute_result",
     "data": {
      "text/plain": [
       "'c:\\\\Users\\\\Sasha\\\\Desktop\\\\Py\\\\Git\\\\PracticeBits'"
      ]
     },
     "metadata": {},
     "execution_count": 2
    }
   ],
   "source": [
    "pwd"
   ]
  },
  {
   "cell_type": "code",
   "execution_count": 5,
   "metadata": {},
   "outputs": [],
   "source": [
    "f = open('practice.txt','w+')\n",
    "f.write('This is a test string')\n",
    "f.close()"
   ]
  },
  {
   "cell_type": "code",
   "execution_count": 1,
   "metadata": {},
   "outputs": [],
   "source": [
    "import os"
   ]
  },
  {
   "cell_type": "code",
   "execution_count": 8,
   "metadata": {},
   "outputs": [
    {
     "output_type": "execute_result",
     "data": {
      "text/plain": [
       "'c:\\\\Users\\\\Sasha\\\\Desktop\\\\Py\\\\Git\\\\PracticeBits'"
      ]
     },
     "metadata": {},
     "execution_count": 8
    }
   ],
   "source": [
    "os.getcwd()"
   ]
  },
  {
   "cell_type": "code",
   "execution_count": 11,
   "metadata": {},
   "outputs": [
    {
     "output_type": "execute_result",
     "data": {
      "text/plain": [
       "['All Users',\n",
       " 'Default',\n",
       " 'Default User',\n",
       " 'desktop.ini',\n",
       " 'MSSQLFDLauncher',\n",
       " 'MSSQLSERVER',\n",
       " 'MSSQLServerOLAPService',\n",
       " 'Public',\n",
       " 'Sasha',\n",
       " 'SQLSERVERAGENT',\n",
       " 'SQLTELEMETRY',\n",
       " 'SSASTELEMETRY']"
      ]
     },
     "metadata": {},
     "execution_count": 11
    }
   ],
   "source": [
    "os.listdir('c:\\\\Users')"
   ]
  },
  {
   "cell_type": "code",
   "execution_count": 2,
   "metadata": {},
   "outputs": [],
   "source": [
    "import shutil"
   ]
  },
  {
   "cell_type": "code",
   "execution_count": 5,
   "metadata": {},
   "outputs": [
    {
     "output_type": "execute_result",
     "data": {
      "text/plain": [
       "'c:\\\\Users\\\\Sasha\\\\Desktop\\\\Py\\\\Git\\\\PracticeBits\\\\practice.txt'"
      ]
     },
     "metadata": {},
     "execution_count": 5
    }
   ],
   "source": [
    "shutil.move('c:\\\\Users\\\\Sasha\\\\practice.txt',os.getcwd())"
   ]
  },
  {
   "cell_type": "code",
   "execution_count": 3,
   "metadata": {},
   "outputs": [],
   "source": [
    "import send2trash"
   ]
  },
  {
   "cell_type": "code",
   "execution_count": 8,
   "metadata": {},
   "outputs": [
    {
     "output_type": "execute_result",
     "data": {
      "text/plain": [
       "['.git',\n",
       " '.gitattributes',\n",
       " 'Class.ipynb',\n",
       " 'collections_module.ipynb',\n",
       " 'decorators.ipynb',\n",
       " 'error_handling_homework.ipynb',\n",
       " 'exercises.ipynb',\n",
       " 'generators.ipynb',\n",
       " 'generators_practice.ipynb',\n",
       " 'homework.ipynb',\n",
       " 'Inheritance_polymorphism.ipynb',\n",
       " 'mapfilterlambda.ipynb',\n",
       " 'methodsandfunctions.ipynb',\n",
       " 'milestone project.ipynb',\n",
       " 'milestone warmup.ipynb',\n",
       " 'oop_homework.ipynb',\n",
       " 'oop_project.ipynb',\n",
       " 'pre milestone.ipynb',\n",
       " 'shutil_and_os_modules.ipynb',\n",
       " 'thunder_magic_methods.ipynb',\n",
       " 'try_else_finally.ipynb']"
      ]
     },
     "metadata": {},
     "execution_count": 8
    }
   ],
   "source": [
    "os.listdir()"
   ]
  },
  {
   "cell_type": "code",
   "execution_count": 7,
   "metadata": {},
   "outputs": [],
   "source": [
    "send2trash.send2trash('practice.txt')"
   ]
  },
  {
   "cell_type": "code",
   "execution_count": 22,
   "metadata": {},
   "outputs": [
    {
     "output_type": "stream",
     "name": "stdout",
     "text": [
      "currently looking at c:\\Users\\Sasha\\Desktop\\Py\\Git\\PracticeBits\n\n\nThe subfolders are: \n\t Subfolder: .git\n\n\nthe files are: \n\t File:.gitattributes\n\t File:Class.ipynb\n\t File:collections_module.ipynb\n\t File:decorators.ipynb\n\t File:error_handling_homework.ipynb\n\t File:exercises.ipynb\n\t File:generators.ipynb\n\t File:generators_practice.ipynb\n\t File:homework.ipynb\n\t File:Inheritance_polymorphism.ipynb\n\t File:mapfilterlambda.ipynb\n\t File:methodsandfunctions.ipynb\n\t File:milestone project.ipynb\n\t File:milestone warmup.ipynb\n\t File:oop_homework.ipynb\n\t File:oop_project.ipynb\n\t File:pre milestone.ipynb\n\t File:shutil_and_os_modules.ipynb\n\t File:thunder_magic_methods.ipynb\n\t File:try_else_finally.ipynb\n\n\ncurrently looking at c:\\Users\\Sasha\\Desktop\\Py\\Git\\PracticeBits\\.git\n\n\nThe subfolders are: \n\t Subfolder: hooks\n\t Subfolder: info\n\t Subfolder: logs\n\t Subfolder: objects\n\t Subfolder: refs\n\n\nthe files are: \n\t File:COMMIT_EDITMSG\n\t File:config\n\t File:description\n\t File:FETCH_HEAD\n\t File:HEAD\n\t File:index\n\t File:ORIG_HEAD\n\n\ncurrently looking at c:\\Users\\Sasha\\Desktop\\Py\\Git\\PracticeBits\\.git\\hooks\n\n\nThe subfolders are: \n\n\nthe files are: \n\t File:applypatch-msg.sample\n\t File:commit-msg.sample\n\t File:fsmonitor-watchman.sample\n\t File:post-update.sample\n\t File:pre-applypatch.sample\n\t File:pre-commit.sample\n\t File:pre-merge-commit.sample\n\t File:pre-push.sample\n\t File:pre-rebase.sample\n\t File:pre-receive.sample\n\t File:prepare-commit-msg.sample\n\t File:update.sample\n\n\ncurrently looking at c:\\Users\\Sasha\\Desktop\\Py\\Git\\PracticeBits\\.git\\info\n\n\nThe subfolders are: \n\n\nthe files are: \n\t File:exclude\n\n\ncurrently looking at c:\\Users\\Sasha\\Desktop\\Py\\Git\\PracticeBits\\.git\\logs\n\n\nThe subfolders are: \n\t Subfolder: refs\n\n\nthe files are: \n\t File:HEAD\n\n\ncurrently looking at c:\\Users\\Sasha\\Desktop\\Py\\Git\\PracticeBits\\.git\\logs\\refs\n\n\nThe subfolders are: \n\t Subfolder: heads\n\t Subfolder: remotes\n\n\nthe files are: \n\n\ncurrently looking at c:\\Users\\Sasha\\Desktop\\Py\\Git\\PracticeBits\\.git\\logs\\refs\\heads\n\n\nThe subfolders are: \n\n\nthe files are: \n\t File:main\n\n\ncurrently looking at c:\\Users\\Sasha\\Desktop\\Py\\Git\\PracticeBits\\.git\\logs\\refs\\remotes\n\n\nThe subfolders are: \n\t Subfolder: origin\n\n\nthe files are: \n\n\ncurrently looking at c:\\Users\\Sasha\\Desktop\\Py\\Git\\PracticeBits\\.git\\logs\\refs\\remotes\\origin\n\n\nThe subfolders are: \n\n\nthe files are: \n\t File:main\n\n\ncurrently looking at c:\\Users\\Sasha\\Desktop\\Py\\Git\\PracticeBits\\.git\\objects\n\n\nThe subfolders are: \n\t Subfolder: 0c\n\t Subfolder: 17\n\t Subfolder: 24\n\t Subfolder: 25\n\t Subfolder: 40\n\t Subfolder: 47\n\t Subfolder: 4f\n\t Subfolder: 53\n\t Subfolder: 58\n\t Subfolder: 69\n\t Subfolder: 6d\n\t Subfolder: 6f\n\t Subfolder: 70\n\t Subfolder: 7a\n\t Subfolder: 7b\n\t Subfolder: 7d\n\t Subfolder: 7f\n\t Subfolder: 89\n\t Subfolder: 91\n\t Subfolder: 9d\n\t Subfolder: 9f\n\t Subfolder: a0\n\t Subfolder: aa\n\t Subfolder: da\n\t Subfolder: de\n\t Subfolder: df\n\t Subfolder: e0\n\t Subfolder: e7\n\t Subfolder: f5\n\t Subfolder: info\n\t Subfolder: pack\n\n\nthe files are: \n\n\ncurrently looking at c:\\Users\\Sasha\\Desktop\\Py\\Git\\PracticeBits\\.git\\objects\\0c\n\n\nThe subfolders are: \n\n\nthe files are: \n\t File:0725752c1b6006a43dc3ded1a3aa5021b958c2\n\n\ncurrently looking at c:\\Users\\Sasha\\Desktop\\Py\\Git\\PracticeBits\\.git\\objects\\17\n\n\nThe subfolders are: \n\n\nthe files are: \n\t File:e5abb9664b5a5024cca6c198b12eed19d598b8\n\n\ncurrently looking at c:\\Users\\Sasha\\Desktop\\Py\\Git\\PracticeBits\\.git\\objects\\24\n\n\nThe subfolders are: \n\n\nthe files are: \n\t File:9e11e1f3af845e7c684a4bcc1b3e2690fd8a1e\n\n\ncurrently looking at c:\\Users\\Sasha\\Desktop\\Py\\Git\\PracticeBits\\.git\\objects\\25\n\n\nThe subfolders are: \n\n\nthe files are: \n\t File:8086b0b47f1b5c39da44bdfe23ddbe22cf8cb5\n\n\ncurrently looking at c:\\Users\\Sasha\\Desktop\\Py\\Git\\PracticeBits\\.git\\objects\\40\n\n\nThe subfolders are: \n\n\nthe files are: \n\t File:ed6dc18b5b744e8b0a0d71a54d2e983982ecaf\n\n\ncurrently looking at c:\\Users\\Sasha\\Desktop\\Py\\Git\\PracticeBits\\.git\\objects\\47\n\n\nThe subfolders are: \n\n\nthe files are: \n\t File:66fd5c4b5a6ee807c074337f41e6082b265713\n\n\ncurrently looking at c:\\Users\\Sasha\\Desktop\\Py\\Git\\PracticeBits\\.git\\objects\\4f\n\n\nThe subfolders are: \n\n\nthe files are: \n\t File:411f3facb527b75cceba00c6a51b8d2f27d5df\n\n\ncurrently looking at c:\\Users\\Sasha\\Desktop\\Py\\Git\\PracticeBits\\.git\\objects\\53\n\n\nThe subfolders are: \n\n\nthe files are: \n\t File:9a54d702ddcb1af4cc6b6e9206c1fcfc8aee6c\n\n\ncurrently looking at c:\\Users\\Sasha\\Desktop\\Py\\Git\\PracticeBits\\.git\\objects\\58\n\n\nThe subfolders are: \n\n\nthe files are: \n\t File:b434e3e03cfa5cefaf00fa68c516a7987d85b3\n\n\ncurrently looking at c:\\Users\\Sasha\\Desktop\\Py\\Git\\PracticeBits\\.git\\objects\\69\n\n\nThe subfolders are: \n\n\nthe files are: \n\t File:bff4bb48b0443ce097799f5db1faffed3a77fa\n\n\ncurrently looking at c:\\Users\\Sasha\\Desktop\\Py\\Git\\PracticeBits\\.git\\objects\\6d\n\n\nThe subfolders are: \n\n\nthe files are: \n\t File:0a235911e36fa8932e7b401aa7f2cb4cc4623b\n\n\ncurrently looking at c:\\Users\\Sasha\\Desktop\\Py\\Git\\PracticeBits\\.git\\objects\\6f\n\n\nThe subfolders are: \n\n\nthe files are: \n\t File:9509c88bed7080d496fc5e1d87a9315e30549d\n\n\ncurrently looking at c:\\Users\\Sasha\\Desktop\\Py\\Git\\PracticeBits\\.git\\objects\\70\n\n\nThe subfolders are: \n\n\nthe files are: \n\t File:ccecc6767631593d16f1614e2e75f4d6705b97\n\n\ncurrently looking at c:\\Users\\Sasha\\Desktop\\Py\\Git\\PracticeBits\\.git\\objects\\7a\n\n\nThe subfolders are: \n\n\nthe files are: \n\t File:7041f2a2dd81804ce6d57838389c1ac287a99b\n\n\ncurrently looking at c:\\Users\\Sasha\\Desktop\\Py\\Git\\PracticeBits\\.git\\objects\\7b\n\n\nThe subfolders are: \n\n\nthe files are: \n\t File:9e3bbf7513706c60a36c39eab53ccdc197322d\n\n\ncurrently looking at c:\\Users\\Sasha\\Desktop\\Py\\Git\\PracticeBits\\.git\\objects\\7d\n\n\nThe subfolders are: \n\n\nthe files are: \n\t File:21f868897d2a35058ad2fa5221aede3cd40352\n\n\ncurrently looking at c:\\Users\\Sasha\\Desktop\\Py\\Git\\PracticeBits\\.git\\objects\\7f\n\n\nThe subfolders are: \n\n\nthe files are: \n\t File:f5394ccd6d2caba323b14e66119e2ed8970790\n\n\ncurrently looking at c:\\Users\\Sasha\\Desktop\\Py\\Git\\PracticeBits\\.git\\objects\\89\n\n\nThe subfolders are: \n\n\nthe files are: \n\t File:24194edf01ba37c1cfcdffc3d3878f29858032\n\n\ncurrently looking at c:\\Users\\Sasha\\Desktop\\Py\\Git\\PracticeBits\\.git\\objects\\91\n\n\nThe subfolders are: \n\n\nthe files are: \n\t File:41671c51aaf46d16788b1dba70b62987f1029e\n\n\ncurrently looking at c:\\Users\\Sasha\\Desktop\\Py\\Git\\PracticeBits\\.git\\objects\\9d\n\n\nThe subfolders are: \n\n\nthe files are: \n\t File:dbebd6740c902af718cbc6f6a98580639c4bfc\n\n\ncurrently looking at c:\\Users\\Sasha\\Desktop\\Py\\Git\\PracticeBits\\.git\\objects\\9f\n\n\nThe subfolders are: \n\n\nthe files are: \n\t File:ef3d741b9b2c0edb8da24bcd6aebb9592f31c2\n\n\ncurrently looking at c:\\Users\\Sasha\\Desktop\\Py\\Git\\PracticeBits\\.git\\objects\\a0\n\n\nThe subfolders are: \n\n\nthe files are: \n\t File:d2387cf4414519f8661cc14c3ae14fdf5c3343\n\n\ncurrently looking at c:\\Users\\Sasha\\Desktop\\Py\\Git\\PracticeBits\\.git\\objects\\aa\n\n\nThe subfolders are: \n\n\nthe files are: \n\t File:3cf371b86adb80ed72b3014a069389eb63362c\n\n\ncurrently looking at c:\\Users\\Sasha\\Desktop\\Py\\Git\\PracticeBits\\.git\\objects\\da\n\n\nThe subfolders are: \n\n\nthe files are: \n\t File:760ff649ece45ea10c4dc5a0535b01d57a6fac\n\n\ncurrently looking at c:\\Users\\Sasha\\Desktop\\Py\\Git\\PracticeBits\\.git\\objects\\de\n\n\nThe subfolders are: \n\n\nthe files are: \n\t File:a695731120d5e224e087bf0062a9d33ab283dc\n\n\ncurrently looking at c:\\Users\\Sasha\\Desktop\\Py\\Git\\PracticeBits\\.git\\objects\\df\n\n\nThe subfolders are: \n\n\nthe files are: \n\t File:e0770424b2a19faf507a501ebfc23be8f54e7b\n\n\ncurrently looking at c:\\Users\\Sasha\\Desktop\\Py\\Git\\PracticeBits\\.git\\objects\\e0\n\n\nThe subfolders are: \n\n\nthe files are: \n\t File:958e7dae3e5ed2c3c59d834ea6a29f6a0fddb9\n\n\ncurrently looking at c:\\Users\\Sasha\\Desktop\\Py\\Git\\PracticeBits\\.git\\objects\\e7\n\n\nThe subfolders are: \n\n\nthe files are: \n\t File:0b2c8714439a77ae07d21f23f96f028e5b81f0\n\n\ncurrently looking at c:\\Users\\Sasha\\Desktop\\Py\\Git\\PracticeBits\\.git\\objects\\f5\n\n\nThe subfolders are: \n\n\nthe files are: \n\t File:11d946d1e4dc5d3d68641eab08e8af187f0e9e\n\n\ncurrently looking at c:\\Users\\Sasha\\Desktop\\Py\\Git\\PracticeBits\\.git\\objects\\info\n\n\nThe subfolders are: \n\n\nthe files are: \n\n\ncurrently looking at c:\\Users\\Sasha\\Desktop\\Py\\Git\\PracticeBits\\.git\\objects\\pack\n\n\nThe subfolders are: \n\n\nthe files are: \n\n\ncurrently looking at c:\\Users\\Sasha\\Desktop\\Py\\Git\\PracticeBits\\.git\\refs\n\n\nThe subfolders are: \n\t Subfolder: heads\n\t Subfolder: remotes\n\t Subfolder: tags\n\n\nthe files are: \n\n\ncurrently looking at c:\\Users\\Sasha\\Desktop\\Py\\Git\\PracticeBits\\.git\\refs\\heads\n\n\nThe subfolders are: \n\n\nthe files are: \n\t File:main\n\n\ncurrently looking at c:\\Users\\Sasha\\Desktop\\Py\\Git\\PracticeBits\\.git\\refs\\remotes\n\n\nThe subfolders are: \n\t Subfolder: origin\n\n\nthe files are: \n\n\ncurrently looking at c:\\Users\\Sasha\\Desktop\\Py\\Git\\PracticeBits\\.git\\refs\\remotes\\origin\n\n\nThe subfolders are: \n\n\nthe files are: \n\t File:main\n\n\ncurrently looking at c:\\Users\\Sasha\\Desktop\\Py\\Git\\PracticeBits\\.git\\refs\\tags\n\n\nThe subfolders are: \n\n\nthe files are: \n\n\n"
     ]
    }
   ],
   "source": [
    "for folder,sub_folder,files in os.walk(os.getcwd()):\n",
    "    print(f\"currently looking at {folder}\")\n",
    "    print('\\n')\n",
    "    print('The subfolders are: ')\n",
    "    for sub_folder in sub_folder:\n",
    "        print(f\"\\t Subfolder: {sub_folder}\")\n",
    "    print('\\n')\n",
    "    print('the files are: ')\n",
    "    for f in files:\n",
    "        print(f\"\\t File:{f}\")\n",
    "    print('\\n')"
   ]
  },
  {
   "cell_type": "code",
   "execution_count": null,
   "metadata": {},
   "outputs": [],
   "source": []
  }
 ]
}