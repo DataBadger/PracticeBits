{
 "metadata": {
  "language_info": {
   "codemirror_mode": {
    "name": "ipython",
    "version": 3
   },
   "file_extension": ".py",
   "mimetype": "text/x-python",
   "name": "python",
   "nbconvert_exporter": "python",
   "pygments_lexer": "ipython3",
   "version": "3.9.0-final"
  },
  "orig_nbformat": 2,
  "kernelspec": {
   "name": "python3",
   "display_name": "Python 3.9.0 64-bit",
   "metadata": {
    "interpreter": {
     "hash": "ac59ebe37160ed0dfa835113d9b8498d9f09ceb179beaac4002f036b9467c963"
    }
   }
  }
 },
 "nbformat": 4,
 "nbformat_minor": 2,
 "cells": [
  {
   "cell_type": "code",
   "execution_count": null,
   "metadata": {},
   "outputs": [],
   "source": [
    "# CSV FILES"
   ]
  },
  {
   "cell_type": "code",
   "execution_count": 1,
   "metadata": {},
   "outputs": [],
   "source": [
    "import csv"
   ]
  },
  {
   "cell_type": "code",
   "execution_count": 5,
   "metadata": {},
   "outputs": [],
   "source": [
    "#open file\n",
    "data = open('example.csv',encoding='utf-8')"
   ]
  },
  {
   "cell_type": "code",
   "execution_count": 6,
   "metadata": {},
   "outputs": [],
   "source": [
    "#csv reader\n",
    "csv_data = csv.reader(data)"
   ]
  },
  {
   "cell_type": "code",
   "execution_count": 7,
   "metadata": {},
   "outputs": [],
   "source": [
    "#format into python object\n",
    "data_lines = list(csv_data)"
   ]
  },
  {
   "cell_type": "code",
   "execution_count": 15,
   "metadata": {},
   "outputs": [
    {
     "output_type": "execute_result",
     "data": {
      "text/plain": [
       "['id', 'first_name', 'last_name', 'email', 'gender', 'ip_address', 'city']"
      ]
     },
     "metadata": {},
     "execution_count": 15
    }
   ],
   "source": [
    "data_lines[0]"
   ]
  },
  {
   "cell_type": "code",
   "execution_count": 16,
   "metadata": {},
   "outputs": [
    {
     "output_type": "execute_result",
     "data": {
      "text/plain": [
       "1001"
      ]
     },
     "metadata": {},
     "execution_count": 16
    }
   ],
   "source": [
    "len(data_lines)"
   ]
  },
  {
   "cell_type": "code",
   "execution_count": 17,
   "metadata": {},
   "outputs": [
    {
     "output_type": "stream",
     "name": "stdout",
     "text": [
      "['id', 'first_name', 'last_name', 'email', 'gender', 'ip_address', 'city']\n['1', 'Joseph', 'Zaniolini', 'jzaniolini0@simplemachines.org', 'Male', '163.168.68.132', 'Pedro Leopoldo']\n['2', 'Freida', 'Drillingcourt', 'fdrillingcourt1@umich.edu', 'Female', '97.212.102.79', 'Buri']\n['3', 'Nanni', 'Herity', 'nherity2@statcounter.com', 'Female', '145.151.178.98', 'Claver']\n['4', 'Orazio', 'Frayling', 'ofrayling3@economist.com', 'Male', '25.199.143.143', 'Kungur']\n"
     ]
    }
   ],
   "source": [
    "for line in data_lines[:5]:\n",
    "    print(line)"
   ]
  },
  {
   "cell_type": "code",
   "execution_count": 19,
   "metadata": {},
   "outputs": [
    {
     "output_type": "execute_result",
     "data": {
      "text/plain": [
       "'hgasquoine9@google.ru'"
      ]
     },
     "metadata": {},
     "execution_count": 19
    }
   ],
   "source": [
    "data_lines[10][3]"
   ]
  },
  {
   "cell_type": "code",
   "execution_count": 22,
   "metadata": {},
   "outputs": [],
   "source": [
    "all_emails = []\n",
    "for line in data_lines[1:15]:\n",
    "    all_emails.append(line[3])"
   ]
  },
  {
   "cell_type": "code",
   "execution_count": 23,
   "metadata": {},
   "outputs": [
    {
     "output_type": "execute_result",
     "data": {
      "text/plain": [
       "['jzaniolini0@simplemachines.org',\n",
       " 'fdrillingcourt1@umich.edu',\n",
       " 'nherity2@statcounter.com',\n",
       " 'ofrayling3@economist.com',\n",
       " 'jmurrison4@cbslocal.com',\n",
       " 'lgamet5@list-manage.com',\n",
       " 'dhowatt6@amazon.com',\n",
       " 'kherion7@amazon.com',\n",
       " 'chedworth8@china.com.cn',\n",
       " 'hgasquoine9@google.ru',\n",
       " 'ftarra@shareasale.com',\n",
       " 'abathb@umn.edu',\n",
       " 'lchastangc@goo.gl',\n",
       " 'cceried@yale.edu']"
      ]
     },
     "metadata": {},
     "execution_count": 23
    }
   ],
   "source": [
    "all_emails"
   ]
  },
  {
   "cell_type": "code",
   "execution_count": 24,
   "metadata": {},
   "outputs": [
    {
     "output_type": "execute_result",
     "data": {
      "text/plain": [
       "['10',\n",
       " 'Hyatt',\n",
       " 'Gasquoine',\n",
       " 'hgasquoine9@google.ru',\n",
       " 'Male',\n",
       " '221.155.106.39',\n",
       " 'Złoty Stok']"
      ]
     },
     "metadata": {},
     "execution_count": 24
    }
   ],
   "source": [
    "data_lines[10]"
   ]
  },
  {
   "cell_type": "code",
   "execution_count": 31,
   "metadata": {},
   "outputs": [],
   "source": [
    "full_names = []\n",
    "for line in data_lines[1:15]:\n",
    "    full_names.append(line[1]+' '+line[2])"
   ]
  },
  {
   "cell_type": "code",
   "execution_count": 32,
   "metadata": {},
   "outputs": [
    {
     "output_type": "execute_result",
     "data": {
      "text/plain": [
       "['Joseph Zaniolini',\n",
       " 'Freida Drillingcourt',\n",
       " 'Nanni Herity',\n",
       " 'Orazio Frayling',\n",
       " 'Julianne Murrison',\n",
       " 'Lucy Gamet',\n",
       " 'Dyana Howatt',\n",
       " 'Kassey Herion',\n",
       " 'Chrissy Hedworth',\n",
       " 'Hyatt Gasquoine',\n",
       " 'Felicdad Tarr',\n",
       " 'Andrew Bath',\n",
       " 'Lucais Chastang',\n",
       " 'Car Cerie']"
      ]
     },
     "metadata": {},
     "execution_count": 32
    }
   ],
   "source": [
    "full_names"
   ]
  },
  {
   "cell_type": "code",
   "execution_count": 33,
   "metadata": {},
   "outputs": [],
   "source": [
    "file_to_output = open('to_save_file.csv',mode='w',newline='')"
   ]
  },
  {
   "cell_type": "code",
   "execution_count": 35,
   "metadata": {},
   "outputs": [],
   "source": [
    "csv_writer = csv.writer(file_to_output,delimiter=',')"
   ]
  },
  {
   "cell_type": "code",
   "execution_count": 36,
   "metadata": {},
   "outputs": [
    {
     "output_type": "execute_result",
     "data": {
      "text/plain": [
       "7"
      ]
     },
     "metadata": {},
     "execution_count": 36
    }
   ],
   "source": [
    "csv_writer.writerow(['a','b','c'])"
   ]
  },
  {
   "cell_type": "code",
   "execution_count": 37,
   "metadata": {},
   "outputs": [],
   "source": [
    "csv_writer.writerows([['1','2','3'],['4','5','6']])"
   ]
  },
  {
   "cell_type": "code",
   "execution_count": 38,
   "metadata": {},
   "outputs": [],
   "source": [
    "file_to_output.close()"
   ]
  },
  {
   "cell_type": "code",
   "execution_count": 39,
   "metadata": {},
   "outputs": [],
   "source": [
    "f = open('to_save_file.csv',mode='a',newline='')"
   ]
  },
  {
   "cell_type": "code",
   "execution_count": 40,
   "metadata": {},
   "outputs": [],
   "source": [
    "csv_writer = csv.writer(f)"
   ]
  },
  {
   "cell_type": "code",
   "execution_count": 41,
   "metadata": {},
   "outputs": [
    {
     "output_type": "execute_result",
     "data": {
      "text/plain": [
       "7"
      ]
     },
     "metadata": {},
     "execution_count": 41
    }
   ],
   "source": [
    "csv_writer.writerow(['1','2','3'])"
   ]
  },
  {
   "cell_type": "code",
   "execution_count": 42,
   "metadata": {},
   "outputs": [],
   "source": [
    "f.close()"
   ]
  },
  {
   "cell_type": "code",
   "execution_count": null,
   "metadata": {},
   "outputs": [],
   "source": [
    "# PDF FILES"
   ]
  },
  {
   "cell_type": "code",
   "execution_count": 43,
   "metadata": {},
   "outputs": [],
   "source": [
    "import PyPDF2"
   ]
  },
  {
   "cell_type": "code",
   "execution_count": 44,
   "metadata": {},
   "outputs": [],
   "source": [
    "f = open('Working_Business_Proposal.pdf','rb')"
   ]
  },
  {
   "cell_type": "code",
   "execution_count": 45,
   "metadata": {},
   "outputs": [],
   "source": [
    "pdf_reader = PyPDF2.PdfFileReader(f)"
   ]
  },
  {
   "cell_type": "code",
   "execution_count": 46,
   "metadata": {},
   "outputs": [
    {
     "output_type": "execute_result",
     "data": {
      "text/plain": [
       "5"
      ]
     },
     "metadata": {},
     "execution_count": 46
    }
   ],
   "source": [
    "pdf_reader.numPages"
   ]
  },
  {
   "cell_type": "code",
   "execution_count": 47,
   "metadata": {},
   "outputs": [],
   "source": [
    "page_one = pdf_reader.getPage(0)"
   ]
  },
  {
   "cell_type": "code",
   "execution_count": 48,
   "metadata": {},
   "outputs": [],
   "source": [
    "page_one_text = page_one.extractText()"
   ]
  },
  {
   "cell_type": "code",
   "execution_count": 49,
   "metadata": {},
   "outputs": [
    {
     "output_type": "execute_result",
     "data": {
      "text/plain": [
       "'Business Proposal\\n The Revolution is Coming\\n Leverage agile frameworks to provide a robust synopsis for high level \\noverviews. Iterative approaches to corporate strategy foster collaborative \\nthinking to further the overall value proposition. Organically grow the \\nholistic world view of disruptive innovation via workplace diversity and \\nempowerment. \\nBring to the table win-win survival strategies to ensure proactive \\ndomination. At the end of the day, going forward, a new normal that has \\nevolved from generation X is on the runway heading towards a streamlined \\ncloud solution. User generated content in real-time will have multiple \\ntouchpoints for offshoring. \\nCapitalize on low hanging fruit to identify a ballpark value added activity to \\nbeta test. Override the digital divide with additional clickthroughs from \\nDevOps. Nanotechnology immersion along the information highway will \\nclose the loop on focusing solely on the bottom line. Podcasting operational change management inside of workßows to \\nestablish a framework. Taking seamless key performance indicators ofßine \\nto maximise the long tail. Keeping your eye on the ball while performing a \\ndeep dive on the start-up mentality to derive convergence on cross-\\nplatform integration. \\nCollaboratively administrate empowered markets via plug-and-play \\nnetworks. Dynamically procrastinate B2C users after installed base \\nbeneÞts. Dramatically visualize customer directed convergence without \\nrevolutionary ROI. \\nEfÞciently unleash cross-media information without cross-media value. \\nQuickly maximize timely deliverables for real-time schemas. Dramatically \\nmaintain clicks-and-mortar solutions without functional solutions. \\nBUSINESS PROPOSAL\\n!1'"
      ]
     },
     "metadata": {},
     "execution_count": 49
    }
   ],
   "source": [
    "page_one_text"
   ]
  },
  {
   "cell_type": "code",
   "execution_count": 50,
   "metadata": {},
   "outputs": [],
   "source": [
    "f.close()"
   ]
  },
  {
   "cell_type": "code",
   "execution_count": 51,
   "metadata": {},
   "outputs": [],
   "source": [
    "f = open('Working_Business_Proposal.pdf','rb')\n",
    "pdf_reader = PyPDF2.PdfFileReader(f)"
   ]
  },
  {
   "cell_type": "code",
   "execution_count": 52,
   "metadata": {},
   "outputs": [],
   "source": [
    "first_page = pdf_reader.getPage(0)"
   ]
  },
  {
   "cell_type": "code",
   "execution_count": 53,
   "metadata": {},
   "outputs": [],
   "source": [
    "pdf_writer = PyPDF2.PdfFileWriter()"
   ]
  },
  {
   "cell_type": "code",
   "execution_count": 54,
   "metadata": {},
   "outputs": [],
   "source": [
    "pdf_writer.addPage(first_page)"
   ]
  },
  {
   "cell_type": "code",
   "execution_count": 55,
   "metadata": {},
   "outputs": [],
   "source": [
    "pdf_output = open('Some_BrandNew_Doc.pdf','wb')"
   ]
  },
  {
   "cell_type": "code",
   "execution_count": 56,
   "metadata": {},
   "outputs": [],
   "source": [
    "pdf_writer.write(pdf_output)"
   ]
  },
  {
   "cell_type": "code",
   "execution_count": 57,
   "metadata": {},
   "outputs": [],
   "source": [
    "f.close()"
   ]
  },
  {
   "cell_type": "code",
   "execution_count": 59,
   "metadata": {},
   "outputs": [],
   "source": [
    "f = open('Working_Business_Proposal.pdf','rb')\n",
    "\n",
    "pdf_text = []\n",
    "\n",
    "pdf_reader = PyPDF2.PdfFileReader(f)\n",
    "\n",
    "for num in range(pdf_reader.numPages):\n",
    "    page = pdf_reader.getPage(num)\n",
    "    pdf_text.append(page.extractText())"
   ]
  },
  {
   "cell_type": "code",
   "execution_count": 60,
   "metadata": {},
   "outputs": [
    {
     "output_type": "execute_result",
     "data": {
      "text/plain": [
       "['Business Proposal\\n The Revolution is Coming\\n Leverage agile frameworks to provide a robust synopsis for high level \\noverviews. Iterative approaches to corporate strategy foster collaborative \\nthinking to further the overall value proposition. Organically grow the \\nholistic world view of disruptive innovation via workplace diversity and \\nempowerment. \\nBring to the table win-win survival strategies to ensure proactive \\ndomination. At the end of the day, going forward, a new normal that has \\nevolved from generation X is on the runway heading towards a streamlined \\ncloud solution. User generated content in real-time will have multiple \\ntouchpoints for offshoring. \\nCapitalize on low hanging fruit to identify a ballpark value added activity to \\nbeta test. Override the digital divide with additional clickthroughs from \\nDevOps. Nanotechnology immersion along the information highway will \\nclose the loop on focusing solely on the bottom line. Podcasting operational change management inside of workßows to \\nestablish a framework. Taking seamless key performance indicators ofßine \\nto maximise the long tail. Keeping your eye on the ball while performing a \\ndeep dive on the start-up mentality to derive convergence on cross-\\nplatform integration. \\nCollaboratively administrate empowered markets via plug-and-play \\nnetworks. Dynamically procrastinate B2C users after installed base \\nbeneÞts. Dramatically visualize customer directed convergence without \\nrevolutionary ROI. \\nEfÞciently unleash cross-media information without cross-media value. \\nQuickly maximize timely deliverables for real-time schemas. Dramatically \\nmaintain clicks-and-mortar solutions without functional solutions. \\nBUSINESS PROPOSAL\\n!1',\n",
       " 'Completely synergize resource taxing relationships via premier niche \\nmarkets. Professionally cultivate one-to-one customer service with robust \\nideas. Dynamically innovate resource-leveling customer service for state of \\nthe art customer service. \\nObjectively innovate empowered manufactured products whereas parallel \\nplatforms. Holisticly predominate extensible testing procedures for reliable \\nsupply chains. Dramatically engage top-line web services vis-a-vis \\ncutting-edge deliverables. Proactively envisioned multimedia based expertise and cross-media \\ngrowth strategies. Seamlessly visualize quality intellectual capital without \\nsuperior collaboration and idea-sharing. Holistically pontiÞcate installed \\nbase portals after maintainable products. \\nPhosßuorescently engage worldwide methodologies with web-enabled \\ntechnology. Interactively coordinate proactive e-commerce via process-\\ncentric \"outside the box\" thinking. Completely pursue scalable customer \\nservice through sustainable potentialities. \\nCollaboratively administrate turnkey channels whereas virtual e-tailers. \\nObjectively seize scalable metrics whereas proactive e-services. \\nSeamlessly empower fully researched growth strategies and interoperable \\ninternal or \"organic\" sources. \\nCredibly innovate granular internal or \"organic\" sources whereas high \\nstandards in web-readiness. Energistically scale future-proof core \\ncompetencies vis-a-vis impactful experiences. Dramatically synthesize \\nintegrated schemas with optimal networks. Interactively procrastinate high-payoff content without backward-\\ncompatible data. Quickly cultivate optimal processes and tactical \\narchitectures. Completely iterate covalent strategic theme areas via \\naccurate e-markets. Globally incubate standards compliant channels before scalable beneÞts. \\nQuickly disseminate superior deliverables whereas web-enabled \\nBUSINESS PROPOSAL\\n!2',\n",
       " 'applications. Quickly drive clicks-and-mortar catalysts for change before \\nvertical architectures. \\nCredibly reintermediate backend ideas for cross-platform models. \\nContinually reintermediate integrated processes through technically sound \\nintellectual capital. Holistically foster superior methodologies without \\nmarket-driven best practices. Distinctively exploit optimal alignments for intuitive bandwidth. Quickly \\ncoordinate e-business applications through revolutionary catalysts for \\nchange. Seamlessly underwhelm optimal testing procedures whereas \\nbricks-and-clicks processes. \\nSynergistically evolve 2.0 technologies rather than just in time initiatives. \\nQuickly deploy strategic networks with compelling e-business. Credibly \\npontiÞcate highly efÞcient manufactured products and enabled data. \\nDynamically target high-payoff intellectual capital for customized \\ntechnologies. Objectively integrate emerging core competencies before \\nprocess-centric communities. Dramatically evisculate holistic innovation \\nrather than client-centric data. Progressively maintain extensive infomediaries via extensible niches. \\nDramatically disseminate standardized metrics after resource-leveling \\nprocesses. Objectively pursue diverse catalysts for change for \\ninteroperable meta-services. \\nProactively fabricate one-to-one materials via effective e-business. \\nCompletely synergize scalable e-commerce rather than high standards in \\ne-services. Assertively iterate resource maximizing products after leading-\\nedge intellectual capital. Distinctively re-engineer revolutionary meta-services and premium \\narchitectures. Intrinsically incubate intuitive opportunities and real-time \\npotentialities. Appropriately communicate one-to-one technology after \\nplug-and-play networks. Quickly aggregate B2B users and worldwide potentialities. Progressively \\nplagiarize resource-leveling e-commerce through resource-leveling core \\nBUSINESS PROPOSAL\\n!3',\n",
       " 'competencies. Dramatically mesh low-risk high-yield alignments before \\ntransparent e-tailers. \\nAppropriately empower dynamic leadership skills after business portals. \\nGlobally myocardinate interactive supply chains with distinctive quality \\nvectors. Globally revolutionize global sources through interoperable \\nservices. Enthusiastically mesh long-term high-impact infrastructures vis-a-vis \\nefÞcient customer service. Professionally fashion wireless leadership rather \\nthan prospective experiences. Energistically myocardinate clicks-and-\\nmortar testing procedures whereas next-generation manufactured \\nproducts. \\nDynamically reinvent market-driven opportunities and ubiquitous \\ninterfaces. Energistically fabricate an expanded array of niche markets \\nthrough robust products. Appropriately implement visionary e-services vis-\\na-vis strategic web-readiness. \\nCompellingly embrace empowered e-business after user friendly \\nintellectual capital. Interactively actualize front-end processes with \\neffective convergence. Synergistically deliver performance based \\nmethods of empowerment whereas distributed expertise. \\nEfÞciently enable enabled sources and cost effective products. \\nCompletely synthesize principle-centered information after ethical \\ncommunities. EfÞciently innovate open-source infrastructures via \\ninexpensive materials. Objectively integrate enterprise-wide strategic theme areas with \\nfunctionalized infrastructures. Interactively productize premium \\ntechnologies whereas interdependent quality vectors. Rapaciously utilize \\nenterprise experiences via 24/7 markets. Uniquely matrix economically sound value through cooperative \\ntechnology. Competently parallel task fully researched data and enterprise \\nprocess improvements. Collaboratively expedite quality manufactured \\nproducts via client-focused results. \\nBUSINESS PROPOSAL\\n!4',\n",
       " 'Quickly communicate enabled technology and turnkey leadership skills. \\nUniquely enable accurate supply chains rather than frictionless \\ntechnology. Globally network focused materials vis-a-vis cost effective \\nmanufactured products. \\nBUSINESS PROPOSAL\\n!5']"
      ]
     },
     "metadata": {},
     "execution_count": 60
    }
   ],
   "source": [
    "pdf_text"
   ]
  }
 ]
}